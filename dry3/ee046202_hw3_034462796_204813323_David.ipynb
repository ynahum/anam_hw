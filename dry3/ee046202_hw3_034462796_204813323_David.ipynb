{
 "cells": [
  {
   "cell_type": "markdown",
   "metadata": {},
   "source": [
    "# <img src=\"https://img.icons8.com/dusk/64/000000/artificial-intelligence.png\" style=\"height:50px;display:inline\"> EE 046202 - Technion - Unsupervised Learning & Data Analysis\n",
    "---\n",
    "\n",
    "## Homework 3 - VAE, GAN & Clustering\n",
    "---\n",
    "### <a style='color:red'> Due Date: 26.01.2021 </a>\n",
    "\n",
    "\n",
    "### <img src=\"https://img.icons8.com/bubbles/50/000000/checklist.png\" style=\"height:50px;display:inline\"> Agenda\n",
    "---\n",
    "* Questions\n",
    "    * VAE Theory\n",
    "    * Fun with GANs\n",
    "    * Expectation Maximization\n",
    "\n",
    "\n",
    "#### Use as many cells as you need\n",
    "#### אפשר גם לכתוב בעברית, אבל עדיף באנגלית\n",
    "\n",
    "* Code Tasks are denoted with: <img src=\"https://img.icons8.com/color/48/000000/code.png\">\n",
    "* Questions (which you need to answer in a Markdown cell) are denoted with: <img src=\"https://img.icons8.com/bubbles/48/000000/ask-question.png\">\n",
    "\n",
    "* $\\large\\LaTeX$ <a href=\"https://kapeli.com/cheat_sheets/LaTeX_Math_Symbols.docset/Contents/Resources/Documents/index\">Cheat-Sheet</a> (to write equations)\n",
    "    * <a href=\"http://tug.ctan.org/info/latex-refsheet/LaTeX_RefSheet.pdf\">Another Cheat-Sheet</a>"
   ]
  },
  {
   "cell_type": "markdown",
   "metadata": {},
   "source": [
    "### <img src=\"https://img.icons8.com/bubbles/50/000000/information.png\" style=\"height:50px;display:inline\"> Students Information\n",
    "---\n",
    "* Fill in\n",
    "\n",
    "|Name     |Campus Email| ID  |\n",
    "|---------|--------------------------------|----------|\n",
    "|Student 1| student_1@campus.technion.ac.il| 123456789|\n",
    "|Student 2| student_2@campus.technion.ac.il| 987654321|\n"
   ]
  },
  {
   "cell_type": "markdown",
   "metadata": {},
   "source": [
    "### <img src=\"https://img.icons8.com/bubbles/50/000000/upload-to-cloud.png\" style=\"height:50px;display:inline\"> Submission Guidelines\n",
    "---\n",
    "* Maximal garde: **100** (even with the bonus, the grade will not be above 100).\n",
    "    * Example: if you got 5 points bonus, but you were right in all sections, your grade will still be 100 (and not 105).\n",
    "    * Example: if you got 5 points bonus, and 6 points were deducted for wrong answers, your grade will be 99.\n",
    "* Submission only in **pairs**. \n",
    "    * Please make sure you have registered your group in Moodle (there is a group creation component on the Moodle where you need to create your group and assign members).\n",
    "* **ANSWERS TO THEORETICAL/MATHEMATICAL QUESTIONS**:\n",
    "    * **Typed - 5 points bonus**: you can type directly in a Markdown cell using Latex (see cheatsheets above), or use Word, Overleaf, LyX...\n",
    "        * This is a really good practice, we encourage you to practice your math typing skills.\n",
    "    * **Handwritten** - if we can't read your handwriting, we will automatically take off the points of the questions. Please write clearly. No bonus for handwritten submissions.\n",
    "* <a style='color:red'> SAVE THE NOTEBOOKS WITH THE OUTPUT, CODE CELLS THAT WERE NOT RUN WILL NOT GET ANY POINTS! </a>\n",
    "* What you have to submit:\n",
    "    * If you have answered the questions in the notebook, you should submit this file only, with the name: `ee046202_hw3_id1_id2.ipynb`.\n",
    "    * If you answered the questions in a different file you should submit a `.pdf` file with the name `ee046202_hw3_id1_id2.pdf`.\n",
    "    * No other file-types (`.py`, `.docx`...) will be accepted.\n",
    "* Submission on the course website (Moodle).\n",
    "* **Latex in Colab** - in some cases, Latex equations may no be rendered. To avoid this, make sure to not use *bullets* in your answers (\"* some text here with Latex equations\" -> \"some text here with Latex equations\")."
   ]
  },
  {
   "cell_type": "markdown",
   "metadata": {},
   "source": [
    "### <img src=\"https://img.icons8.com/clouds/96/000000/keyboard.png\" style=\"height:50px;display:inline\"> Keyboard Shortcuts\n",
    "---\n",
    "* Run current cell: **Ctrl + Enter**\n",
    "* Run current cell and move to the next: **Shift + Enter**\n",
    "* Show lines in a code cell: **Esc + L**\n",
    "* View function documentation: **Shift + Tab** inside the parenthesis or `help(name_of_module)`\n",
    "* New cell below: **Esc + B**\n",
    "* Delete cell: **Esc + D, D** (two D's)"
   ]
  },
  {
   "cell_type": "markdown",
   "metadata": {},
   "source": [
    "## <img src=\"https://img.icons8.com/bubbles/48/000000/ask-question.png\" style=\"height:50px;display:inline\"> Question 1 - VAE Theory\n",
    "---\n",
    "As you recall, the objective function of the VAE is: $$ \\mathcal{L}_{VAE} = -\\mathbb{E}_{Q(z|X)}[\\log P(X|z)] + D_{KL}[Q(z|X)|| P(z)] $$ The first term is called the \"reconstruction error\" and the second is the KL-divergence. In this question we are going to derive mathematic properties of these terms.\n",
    "\n",
    "\n",
    "1.In the tutorial, you have seen how the reconstruction error for the Gaussian case is the MSE. For images, with pixel values in [0,1], this loss function is not that great, and it is better to use the **Binary Cross Entropy (BCE)** loss, which is defined as: $$ BCE = -[y \\log(p) +(1-y)\\log(1-p)] $$\n",
    "* $y$ - the true pixel value of the original image, $y \\in \\{0,1\\}$\n",
    "* $p$ - the output from the neural netwrok (estimated probabiliy that the pixel is 1), $p \\in [0,1]$\n",
    "   Assume that $P(X|z)$ is Benoulli-distributed, that is, $P(X|z) \\sim Bern(\\phi(x,z))$: $$ P(X|z) = \\begin{cases} \\phi(x,z) && \\text{ if } y=1 \\\\ 1 -\\phi(x,z) && \\text{ if } y=0 \\end{cases} $$\n",
    "    * $\\phi(x,z)$ is the output of the decoder for each pixel in the input image.\n",
    "    \n",
    "Show that $$-\\log P(x|z) = BCE.$$\n",
    "\n",
    "2.As you recall, we usually model the prior as $P(Z) \\sim \\mathcal{N}(0,I)$, but sometimes we want to model the prior as some other, perhaps more expressive distribution. We can even model it as a neural network, that is, $P(Z|c) \\sim \\mathcal{N}(\\mu_c, \\Sigma_c)$ where $\\mu_c, \\Sigma_c$ are the outputs of a neural network and $c$ is the input of the network. Derive the closed-form solution of the KL-divergence for this case. That is, derive: $$ D_{KL}[q_{\\phi}(z|X)|| p(z|c)] $$ You should express your answer with $\\mu_q, \\Sigma_q, \\mu_c, \\Sigma_C$ (no $z$'s). Recall that $q_{\\phi}(z|X) \\sim \\mathcal{N}(\\mu_q\\, \\Sigma_q)$. Use the same assumptions from the tutorial. Don't forget that the expectancy is over $z|x \\sim q(z|x)$."
   ]
  },
  {
   "cell_type": "markdown",
   "metadata": {},
   "source": [
    "### Solution "
   ]
  },
  {
   "cell_type": "markdown",
   "metadata": {},
   "source": [
    "##### 1 "
   ]
  },
  {
   "cell_type": "markdown",
   "metadata": {},
   "source": [
    "Another way to write the PDF of Bernoulli is:<br>\n",
    "$P(x|z)=y\\cdot\\phi(x,z) + (1-y)\\cdot(1-\\phi(x,z))$<br>\n",
    "Because for $y=1$ the left term stands and the right term gets zero and vice versa for $y=0$.<br>\n",
    "It implies that: $logP(x|z)=y\\cdot log(\\phi(x,z))+(1-y)\\cdot log(1-\\phi(x,z))$<br>\n",
    "It is the exact form of BCE:<br>\n",
    "$-logP(x|z)=-[y\\cdot\\phi(x,z) + (1-y)\\cdot(1-\\phi(x,z))]=BCE$"
   ]
  },
  {
   "cell_type": "markdown",
   "metadata": {},
   "source": [
    "##### 2 "
   ]
  },
  {
   "cell_type": "markdown",
   "metadata": {},
   "source": [
    "$$D_{KL}[q_\\phi(z|x)||p(z|c)]=D_{KL}[\\mathcal{N}(\\mu_q\\, \\Sigma_q)||\\mathcal{N}(\\mu_c\\, \\Sigma_c)]=\\mathbb{E}_{q(z|X)}[log\\frac{(2\\pi)^-\\frac{d}{2}\\cdot|\\Sigma_q|^-{\\frac{1}{2}}\\cdot e^-\\frac{1}{2}(z-\\mu_q)^T)\\Sigma_q^{-1}(z-\\mu_q)}{(2\\pi)^-\\frac{d}{2}\\cdot|\\Sigma_c|^-{\\frac{1}{2}}\\cdot e^-\\frac{1}{2}(z-\\mu_c)^T)\\Sigma_c^{-1}(z-\\mu_c)}]=\\mathbb{E}_{q(z|X)}[-\\frac{1}{2}log|\\Sigma_q|-\\frac{1}{2}(z-\\mu_q)^T\\Sigma_q^{-1}(z-\\mu_q)+\\frac{1}{2}log|\\Sigma_c|+\\frac{1}{2}(z-\\mu_c)^T\\Sigma_c^{-1}(z-\\mu_c)]$$<br>$$=-\\frac{1}{2}(log|\\Sigma_q|-log|\\Sigma_c|)-\\frac{1}{2}\\mathbb{E}_{q_{\\phi}(z|X)}[(z-\\mu_q)^T)\\Sigma_q^{-1}(z-\\mu_q)-(z-\\mu_c)^T\\Sigma_c^{-1}(z-\\mu_c)]$$<br>$$=-\\frac{1}{2}(log|\\Sigma_q|-log|\\Sigma_c|)-\\frac{1}{2}\\mathbb{E}_{q_{\\phi}(z|X)}[z^T\\Sigma_q^{-1}z-2z^T\\Sigma_q^{-1}\\mu_q+\\mu_q^T\\Sigma_q^{-1}\\mu_q-z^T\\Sigma_c^{-1}z+2z^T\\Sigma_c^{-1}\\mu_c-\\mu_c^T\\Sigma_c^{-1}\\mu_c]$$<br>$$=-\\frac{1}{2}log(\\frac{|\\Sigma_q|}{|\\Sigma_c|})-\\frac{1}{2}(\\mu_q^T\\Sigma_q^{-1}\\mu_q-\\mu_c^T\\Sigma_c^{-1}\\mu_c)+(\\mathbb{E}_{q_{\\phi}(z|x)}[z]^T)\\Sigma_q^{-1}\\mu_q-(\\mathbb{E}_{q_{\\phi}(z|x)}[z]^T)\\Sigma_c^{-1}\\mu_c-\\frac{1}{2}\\mathbb{E}_{q_{\\phi}(z|X)}[z^T\\Sigma_q^{-1}z-z^T\\Sigma_c^{-1}z]$$<br>$$=-\\frac{1}{2}\\sum_{i=1}^{d}log(\\frac{\\Sigma_q(X)_{ii}}{\\Sigma_c(X)_{ii}})+\\frac{1}{2}\\sum_{i=1}^{d}\\frac{\\mu_q(X)_i^2}{\\Sigma_q(X)_{ii}}+\\frac{1}{2}\\sum_{i=1}^{d}\\frac{\\mu_c(X)_i^2}{\\Sigma_c(X)_{ii}}-\\sum_{i=1}^{d}\\frac{\\mu_q(X)_i\\cdot\\mu_c(X)_i}{\\Sigma_c(X)_{ii}}-\\frac{1}{2}\\mathbb{E}_{q_{\\phi}(z|x)}[\\sum_{i=1}^{d}\\frac{z_i^2}{\\Sigma_q(X)_{ii}}-\\sum_{i=1}^{d}\\frac{z_i^2}{\\Sigma_c(X)_{ii}}]$$<br>Recall from the recitation that: $$\\mathbb{E}[z_i^2]=\\Sigma(X)_{ii}+\\mu(X)_i^2$$Therefore:<br>$$=-\\frac{1}{2}\\sum_{i=1}^{d}log(\\frac{\\Sigma_q(X)_{ii}}{\\Sigma_c(X)_{ii}})+\\frac{1}{2}\\sum_{i=1}^{d}\\frac{\\mu_q(X)_i^2}{\\Sigma_q(X)_{ii}}+\\frac{1}{2}\\sum_{i=1}^{d}\\frac{\\mu_c(X)_i^2}{\\Sigma_c(X)_{ii}}-\\sum_{i=1}^{d}\\frac{\\mu_q(X)_i\\cdot\\mu_c(X)_i}{\\Sigma_c(X)_{ii}}-\\frac{1}{2}\\sum_{i=1}^{d}[1+\\frac{\\mu_q(X)i^2}{\\Sigma_q(X)_{ii}}-\\frac{\\mu_q(X)i^2+\\Sigma_q(X)_{ii}}{\\Sigma_c(X)_{ii}}]$$<br>$$=-\\frac{1}{2}\\sum_{i=1}^{d}log(\\frac{\\Sigma_q(X)_{ii}}{\\Sigma_c(X)_{ii}})+\\frac{1}{2}\\sum_{i=1}^{d}\\frac{\\mu_c(X)_i^2}{\\Sigma_c(X)_{ii}}+\\frac{1}{2}\\sum_{i=1}^{d}\\frac{\\mu_q(X)_i^2+\\Sigma_q(X)_{ii}}{\\Sigma_c(X)_{ii}}-\\sum_{i=1}^{d}\\frac{\\mu_q(X)_i\\cdot\\mu_c(X)_i}{\\Sigma_c(X)_{ii}}-\\frac{1}{2}$$<br>$$=\\frac{1}{2}\\sum_{i=1}^{d}[\\frac{\\mu_c(X)_i^2+\\mu_q(X)_i^2+\\Sigma_q(X)_{ii}-2\\cdot\\mu_q(X)_i\\cdot\\mu_c(X)_i}{\\Sigma_c(X)_{ii}}-1-log(\\frac{\\Sigma_q(X)_{ii}}{\\Sigma_c(X)_{ii}})]$$"
   ]
  },
  {
   "cell_type": "markdown",
   "metadata": {},
   "source": [
    "##### We would like to examine if the result aligns with the result from the recitation "
   ]
  },
  {
   "cell_type": "markdown",
   "metadata": {},
   "source": [
    "For $\\mu_c=0$ and $\\Sigma_c=I$, we get $$D_{KL}[\\mathcal{N}(\\mu_q\\, \\Sigma_q)||\\mathcal{N}(\\mu_c\\, \\Sigma_c)]=D_{KL}[\\mathcal{N}(\\mu_q\\, \\Sigma_q)||\\mathcal{N}(0, I)]$$<br>$$=\\frac{1}{2}\\sum_{i=1}^{d}[\\frac{\\mu_c(X)_i^2+\\mu_q(X)_i^2+\\Sigma_q(X)_{ii}-2\\cdot\\mu_q(X)_i\\cdot\\mu_c(X)_i}{\\Sigma_c(X)_{ii}}-1-log(\\frac{\\Sigma_q(X)_{ii}}{\\Sigma_c(X)_{ii}})]$$<br>$$=\\frac{1}{2}\\sum_{i=1}^{d}[\\frac{0^2+\\mu_q(X)_i^2+\\Sigma_q(X)_{ii}-2\\cdot\\mu_q(X)_i\\cdot0}{I}-1-log(\\frac{\\Sigma_q(X)_{ii}}{I})]$$<br>$$=\\frac{1}{2}\\sum_{i=1}^{d}[\\Sigma_q(X)_{ii}+\\mu_q(X)_i^2-1-log\\Sigma_q(X)_{ii}]$$<br>\n",
    "as we expected from the recitation."
   ]
  },
  {
   "cell_type": "markdown",
   "metadata": {},
   "source": [
    "## <img src=\"https://img.icons8.com/bubbles/48/000000/ask-question.png\" style=\"height:50px;display:inline\"> Question 2 - Generative Adversarial Networks (GANs)\n",
    "---\n",
    "1. Recall that when the discriminator gets *too good*, generator gradient vanishes and learns nothing - **Vanisihng/Diminishing Gradient**. Consider the second term in the objective function which is relavent only for the generator: $$ \\mathbb{E}_{z\\sim q(z)} \\left[\\log(1 - D\\left(G(z)\\right)) \\right].$$ Show that if $D$ is confident (that the sample is fake - its output is 0), the gradient of the generator goes to 0.\n",
    "    * Hint: recall that the output of binary classification is the output of the *sigmoid* function, $\\sigma$.\n",
    "    \n",
    "2. In the proof of Nash equilibrium, we used the Jensen-Shannon Divergence (JSD): $$ JSD( p_G\\mid \\mid p_{data}) = JSD(p_{data} \\mid \\mid p_G) = \\frac{1}{2}KL\\left(p_{data} \\mid \\mid \\left(\\frac{p_{data} + p_G}{2}\\right)\\right) +  \\frac{1}{2}KL\\left(p_G \\mid \\mid \\left(\\frac{p_{data} + p_G}{2}\\right)\\right).$$ Denote $p_{data}=a, p_G=b$. Show that $$ 0 \\leq JSD(a\\mid \\mid b) \\leq 1.$$\n",
    "    * For the KL, use $\\log_2.$\n",
    "    \n",
    "3. Let's say you trained a GAN to generate images of apples (and assume the GAN converged and you can now generate nice images of apples). \n",
    "    * Can the **Discriminator** be used to classify between apples and non-apples? Explain."
   ]
  },
  {
   "cell_type": "markdown",
   "metadata": {},
   "source": [
    "##### 1 "
   ]
  },
  {
   "cell_type": "markdown",
   "metadata": {},
   "source": [
    "We will calculate the weight's gradient of $\\mathbb{E}_{z\\sim q(z)}[log(1-D(G(z)))]$<br>\n",
    "$$\\nabla_{W_G}\\mathbb{E}_{z\\sim q(z)}[log(1-D(G(z)))]=\\mathbb{E}_{z\\sim q(z)}[-\\frac{1}{1-D(G(z))}\\cdot \\nabla_{W_G}D(G(z))]$$\n",
    "The output of binary classification is the output of the isgmoid function $\\sigma$ so we can deriviate $D(G(z))$ as a sigmoid function:\n",
    "$$\\nabla_{W_G}D(G(z))=D(G(z))(1-D(G(z)))$$\n",
    "connect it together:\n",
    "$$\\nabla_{W_G}D(G(z))=\\mathbb{E}_{z\\sim q(z)}[-\\frac{1}{1-D(G(z))}\\cdot D(G(z))(1-D(G(z)))=-\\mathbb{E}_{z\\sim q(z)}[D(G(z))]=0$$\n",
    "\n",
    "the last transition is due to that *__D__* is confident and $D(G(z))=0$ and then $-\\mathbb{E}_{z\\sim q(z)}[0]=0$"
   ]
  },
  {
   "cell_type": "markdown",
   "metadata": {},
   "source": [
    "##### 2 "
   ]
  },
  {
   "cell_type": "markdown",
   "metadata": {},
   "source": [
    "Left side:<br>\n",
    "by definition $KL(P||Q)\\geq0$<br>\n",
    "$\\rightarrow JSD(a||b)=\\frac{1}{2}KL(a||\\frac{a+b}{2})+\\frac{1}{2}KL(b||\\frac{a+b}{2})\\geq0+0=0$"
   ]
  },
  {
   "cell_type": "markdown",
   "metadata": {},
   "source": [
    "$$JSD(a||b)=\\frac{1}{2}KL(a||\\frac{a+b}{2})+\\frac{1}{2}KL(b||\\frac{a+b}{2})$$<br>\n",
    "$$\\frac{1}{2}\\sum_{a,b}a\\cdot log(\\frac{a}{\\frac{a+b}{2}})+\\frac{1}{2}\\sum_{a,b}b\\cdot log(\\frac{b}{\\frac{a+b}{2}})=\\frac{1}{2}\\sum_{a,b}a\\cdot log(2\\frac{a}{a+b})+\\frac{1}{2}\\sum_{a,b}b\\cdot log(2\\frac{b}{a+b})$$<br>\n",
    "$$=\\frac{1}{2}\\sum_{a,b}a\\cdot (log(2)+log(\\frac{a}{a+b}))+\\frac{1}{2}\\sum_{a,b}b\\cdot (log(2)+log(\\frac{b}{a+b}))=\\frac{1}{2}\\sum_{a,b}a\\cdot (1+log(\\frac{a}{a+b}))+\\frac{1}{2}\\sum_{a,b}b\\cdot (1+log(\\frac{b}{a+b}))$$<br>\n",
    "$$=\\frac{1}{2}\\sum_{a,b}a+a\\cdot log(\\frac{a}{a+b})+\\frac{1}{2}\\sum_{a,b}b+b\\cdot log(\\frac{b}{a+b})$$<br>\n",
    "As a and b are probabilities, their sum is 1<br>\n",
    "$$=\\frac{1}{2}(1+\\sum_{a,b}a\\cdot log(\\frac{a}{a+b}))+\\frac{1}{2}(1+\\sum_{a,b}b\\cdot log(\\frac{b}{a+b}))=1+\\frac{1}{2}\\sum_{a,b}a\\cdot log(\\frac{a}{a+b}))+\\sum_{a,b}b\\cdot log(\\frac{b}{a+b}))$$<br>\n",
    "$$=1+\\frac{1}{2}\\sum_{a,b}a\\cdot log(a)-a\\cdot log(a+b)+b\\cdot log(b)-b\\cdot log(a+b)$$<br>\n",
    "Log is an increasing monotonic function, therefore:\n",
    "$$a\\cdot log(a)\\leq a\\cdot log(a+b)$$ and $$b\\cdot log(b)\\leq b\\cdot log(a+b)$$<br>\n",
    "This implies:<br>\n",
    "$$=1+\\frac{1}{2}\\sum_{a,b}a\\cdot log(a)-a\\cdot log(a+b)+b\\cdot log(b)-b\\cdot log(a+b)\\leq1+\\frac{1}{2}\\sum_{a,b}a\\cdot log(a+b)-a\\cdot log(a+b)+b\\cdot log(a+b)-b\\cdot log(a+b)=1+0=1$$"
   ]
  },
  {
   "cell_type": "markdown",
   "metadata": {},
   "source": [
    "##### 3"
   ]
  },
  {
   "cell_type": "markdown",
   "metadata": {},
   "source": [
    "No, GAN is trained as a zero-sum game and when it is converging the discriminator lost the game and actually flips a coin and guesses which picture is real and which is fake.<br>\n",
    "As opposed to a binary real-fake apples classifier the weihgts the discriminator learned are meaningless and cannot be used to detect real from fake apple images."
   ]
  },
  {
   "cell_type": "markdown",
   "metadata": {},
   "source": [
    "## <img src=\"https://img.icons8.com/bubbles/48/000000/ask-question.png\" style=\"height:50px;display:inline\"> Question 3 - Expectation Maximization\n",
    "---\n",
    "1. Prove Jensen's inequality for *concave* functions, which we used in the derivation of the EM algorithm. Show that for a concave function, $f(X)$, $$ \\mathbb{E}[f(X] \\leq f(\\mathbb{E}[X]) .$$\n",
    "2. Consider the EM algorithm as presented in the tutorial. Prove that if we replace $\\theta^{t+1}$ as defined in line 4, with $$ \\theta^{t+1} \\leftarrow \\overline{\\theta} ,$$ where $\\overline{\\theta}$ satisfies that, $$ \\sum_{i=1}^n \\mathbb{E}_{z \\sim q_i^{*}(\\cdot)}\\left[\\log p(x_i,z|\\overline{\\theta}) \\right] \\geq \\sum_{i=1}^n \\mathbb{E}_{z \\sim q_i^{*}(\\cdot)}\\left[\\log p(x_i,z|\\theta^t) \\right], $$ the modified EM algorithm is still assured to improve or to halt in each iteration.\n",
    "3. Show the following holds for any $\\{q_i\\}_{i=1}^n,$ $$ \\mathcal{F}(\\theta, \\{q_i(\\cdot)\\}_{i=1}^n) \\triangleq \\sum_{i=1}^n\\mathbb{E}_{z \\sim q_i^{*}(\\cdot)}\\left[\\log \\frac{p(x_i, z)}{q_i(z)}\\right]$$ <br> $$ = \\sum_{i=1}^n-D_{KL}(q_i(z) || p(z|x_i, \\theta)) +\\log p(x_i|\\theta) $$\n",
    "4. Find $$\\{\\pi_l, \\mu_l, \\Sigma_l \\}_{l=1}^k = \\arg\\max_{\\theta}\\sum_{i=1}^n \\mathbb{E}_{z \\sim q_i^{*}(\\cdot)}\\left[\\log p(x_i, z|\\theta) \\right] $$"
   ]
  },
  {
   "cell_type": "markdown",
   "metadata": {},
   "source": [
    "##### 1"
   ]
  },
  {
   "cell_type": "markdown",
   "metadata": {},
   "source": [
    "A function is concave if $\\forall x,y,\\alpha\\in [0,1], f((1-\\alpha)x+\\alpha y)\\geq (1-\\alpha)f(x) + \\alpha f(y)$.<br>\n",
    "We can generalize this claim for $x_1,..., x_n, \\alpha_1,..., \\alpha_n s.t \\sum_{i=1}^n \\alpha_i=1$.<br>\n",
    "\n",
    "\n",
    "$$f(\\mathbb{E}[X])=f(\\sum_{i=1}^n x_i p(x_i))\\geq \\sum_{i=1}^n f(x_i) p(x_i)=\\mathbb{E}[f(X)]$$\n",
    "Where the transition is by the generalization of the claim and due to the fact that $\\sum_{i=1}^n p(x_i) =1$ as p is probability function."
   ]
  },
  {
   "cell_type": "markdown",
   "metadata": {},
   "source": [
    "##### 2"
   ]
  },
  {
   "cell_type": "markdown",
   "metadata": {},
   "source": [
    "We saw in the tutorial that: $$\\mathcal{L}(X|\\theta)\\geq F(\\theta,\\{q_i(\\cdot)\\}_{i=1}^n)$$\n",
    "and for $q_i^{*}=p(z|x_i;\\theta)$:\n",
    "$$\\mathcal{L}(X|\\theta)=F(\\theta,\\{q_i^{*}(\\cdot)\\}_{i=1}^n)$$\n",
    "Given  $ \\sum_{i=1}^n \\mathbb{E}_{z \\sim q_i^{*}(\\cdot)}\\left[\\log p(x_i,z|\\overline{\\theta}) \\right] \\geq \\sum_{i=1}^n \\mathbb{E}_{z \\sim q_i^{*}(\\cdot)}\\left[\\log p(x_i,z|\\theta^t) \\right] $:\n",
    "$$ \\sum_{i=1}^n \\mathbb{E}_{z \\sim q_i^{*}(\\cdot)}\\left[\\log p(x_i,z|\\overline{\\theta}) \\right] + H(q_i^{*}) \\geq \\sum_{i=1}^n \\mathbb{E}_{z \\sim q_i^{*}(\\cdot)}\\left[\\log p(x_i,z|\\theta^t) \\right] + H(q_i^{*}) \\Rightarrow F(\\overline{\\theta}, \\{q_i^{*}(\\cdot)\\}_{i=1}^n)\\geq F(\\theta, \\{q_i^{*}(\\cdot)\\}_{i=1}^n) $$\n",
    "$$\\Leftrightarrow\\mathcal{L}(X|\\overline{\\theta})=F(\\overline{\\theta}, \\{q_i^{*}(\\cdot)\\}_{i=1}^n)\\geq F(\\theta, \\{q_i^{*}(\\cdot)\\}_{i=1}^n)=\\mathcal{L}(X|\\theta)$$\n",
    "\n",
    "as we saw in the tutorial:\n",
    "$$F(\\overline{\\theta}^{t}, \\{q_i^{*}(\\cdot)\\}_{i=1}^n)\\geq F(\\overline{\\theta}^{t-1}, \\{q_i^{*}(\\cdot)\\}_{i=1}^n)$$\n",
    "and:\n",
    "$$\\mathcal{L}(\\overline{\\theta}^{t-1})=F(\\overline{\\theta}^{t-1}, \\{q_i^{*}(\\cdot)\\}_{i=1}^n)\\leq F(\\overline{\\theta}^{t}, \\{q_i^{*})(\\cdot)\\}_{i=1}^n)=\\mathcal{L}(X|\\overline{\\theta}^{t})=F(\\overline{\\theta}^{t})$$\n",
    "\n",
    "Conclusion: by each iteration the log likelihood gets equal or bigger than the previous iteration."
   ]
  },
  {
   "cell_type": "markdown",
   "metadata": {},
   "source": [
    "##### 3"
   ]
  },
  {
   "cell_type": "markdown",
   "metadata": {},
   "source": [
    "$$\\sum_{i=1}^n\\mathbb{E}_{z \\sim q_i^{*}(\\cdot)}\\left[\\log \\frac{p(x_i, z)}{q_i(z)}\\right]=\\sum_{i=1}^n\\mathbb{E}_{z \\sim q_i^{*}(\\cdot)}\\left[\\log \\frac{p(z|x_i;\\theta)p(x_i;\\theta)}{q_i(z)}\\right]=\\sum_{i=1}^n\\mathbb{E}_{z \\sim q_i^{*}(\\cdot)}\\left[\\log \\frac{p(z|x_i;\\theta)}{q_i(z)} + log(p(x_i;\\theta))\\right]=\\sum_{i=1}^n\\mathbb{E}_{z \\sim q_i^{*}(\\cdot)}\\left[\\log \\frac{p(z|x_i;\\theta)}{q_i(z)}\\right] + log(p(x_i;\\theta))$$\n",
    "the last transition is due to that $x_i$ is not dependent with z.<br>\n",
    "by definition of $D_{KL}: D_{KL}(P||Q)=-\\sum_{x\\in X} P(x)log(\\frac{Q(x)}{P(x)})$ therefore:\n",
    "$$\\sum_{i=1}^n\\mathbb{E}_{z \\sim q_i^{*}(\\cdot)}\\left[\\log \\frac{p(z|x_i;\\theta)}{q_i(z)}\\right] + log(p(x_i;\\theta))=-\\sum_{i=1}^n D_{KL}(q_i(z)||p(z|x_i;\\theta)) + log(p(x_i;\\theta))$$"
   ]
  },
  {
   "cell_type": "markdown",
   "metadata": {},
   "source": [
    "##### 4"
   ]
  },
  {
   "cell_type": "markdown",
   "metadata": {},
   "source": [
    "Notice, by definition from the lecture:<br>\n",
    "$\\sum_{i=1}^n \\mathbb{E}_{z \\sim q_i^{*}(\\cdot)}\\left[\\log p(x_i, z|\\theta) \\right]=\\sum_l \\gamma_{il}\\left[log(\\pi_l N(x_i|\\mu_l, \\Sigma_l))\\right]$<br>\n",
    "\n",
    "We will derivate a specific instance i, and will change l to k for not confusing during the process.\n",
    "\n",
    "\n",
    "$\\mu_k$:<br>\n",
    "$\\nabla_{\\mu_k}\\sum_l \\gamma_{il}\\left[log(\\pi_l N(x_i|\\mu_l, \\Sigma_l))\\right]=\\nabla_{\\mu_k}\\sum_l \\gamma_{il}\\left[log(\\frac{1}{|2\\pi\\Sigma_l|})-log(\\frac{1}{2})+log(e^{(x_i-\\mu_k)^T\\Sigma^{-1}(x_i-\\mu_k)})\\right]=\\nabla_{\\mu_k}\\sum_l \\gamma_{il}\\left[-\\frac{1}{2}(x_i-\\mu_k)^T\\Sigma^{-1}(x_i-\\mu_k)\\right]=-2\\gamma_{ik}\\Sigma^{-1}(x_i-\\mu_k)$<br>\n",
    "Compare to 0 for all samples:<br>\n",
    "$\\Sigma_{i=1}^n-2\\gamma_{ik}\\Sigma^{-1}(x_i-\\mu_k)=0$<br>\n",
    "$\\Leftrightarrow\\Sigma_{i=1}^n\\gamma_{ik}(x_i-\\mu_k)=0$<br>\n",
    "$\\Leftrightarrow\\Sigma_{i=1}^n\\gamma_{ik}\\mu_k=\\Sigma_{i=1}^n\\gamma_{ik}x_i$<br>\n",
    "$\\Leftrightarrow\\mu_k=\\frac{\\Sigma_{i=1}^n\\gamma_{ik}x_i}{\\Sigma_{i=1}^n\\gamma_{ik}}$"
   ]
  },
  {
   "cell_type": "markdown",
   "metadata": {},
   "source": [
    "$\\Sigma_k$:<br>\n",
    "$\\nabla_{\\Sigma_k}\\sum_l \\gamma_{il}\\left[log(\\pi_l N(x_i|\\mu_l, \\Sigma_l))\\right]=\\nabla_{\\mu_k}\\sum_l \\gamma_{il}\\left[log(\\frac{1}{|2\\pi\\Sigma_l|})-log(\\frac{1}{2})+log(e^{(x_i-\\mu_k)^T\\Sigma^{-1}(x_i-\\mu_k)})\\right]$<br>\n",
    "$=\\nabla_{\\Sigma_k}\\sum_l \\gamma_{il}\\left[log(\\frac{1}{2\\pi})+log(|\\Sigma_l^{-1}|)-log(\\frac{1}{2})+tr[(x_i-\\mu_k)(x_i-\\mu_k)^T\\Sigma^{-1}]\\right]$<br>\n",
    "$=\\gamma_{il}\\left[\\Sigma_k-(x_i-\\mu_k)(x_i-\\mu_k)^T\\right]$\n",
    "\n",
    "Compare to 0 for all samples:\n",
    "$\\sum_{i=1}^n\\gamma_{il}\\left[\\Sigma_k-(x_i-\\mu_k)(x_i-\\mu_k)^T\\right]=0$\n",
    "$\\Leftrightarrow\\Sigma_k=\\frac{\\Sigma_{i=1}^n\\gamma_{ik}(x_i-\\mu_k)(x_i-\\mu_k)^T}{\\Sigma_{i=1}^n\\gamma_{ik}}$"
   ]
  },
  {
   "cell_type": "markdown",
   "metadata": {},
   "source": [
    "$\\pi_k$:<br>\n",
    "for $\\pi_k$ we have an additional constraint - $\\Sigma_l \\pi_l=1$<br>\n",
    "Using Lagrange multiplier:<br>\n",
    "$\\sum_l \\gamma_{il}\\left[log(\\pi_l N(x_i|\\mu_l, \\Sigma_l))\\right]+\\lambda(1-\\Sigma_l \\pi_l)$<br>\n",
    "$\\Rightarrow\\nabla_{\\pi_k}\\sum_l \\gamma_{il}\\left[log(\\pi_l N(x_i|\\mu_l, \\Sigma_l))\\right]+\\lambda(1-\\Sigma_l \\pi_l)=\\nabla_{\\pi_k}\\sum_l \\gamma_{il}\\left[log(\\frac{1}{|2\\pi\\Sigma_l|})-log(\\frac{1}{2})+log(e^{(x_i-\\mu_k)^T\\Sigma^{-1}(x_i-\\mu_k)})\\right]+\\lambda(1-\\Sigma_l \\pi_l)$<br>\n",
    "$=\\frac{\\gamma_{ik}}{\\pi_k}-\\lambda_i$\n",
    "\n",
    "Compare to 0:<br>\n",
    "$\\pi_k=\\frac{\\gamma_{ik}}{\\lambda_i}$\n",
    "\n",
    "Find an expression for $\\lambda$ by summing all partial derivatives of $\\pi_k$:<br>\n",
    "$\\Sigma_l\\pi_l=1\\Rightarrow\\Sigma_l\\frac{\\gamma_{ik}}{\\lambda_i}=1\\Rightarrow\\lambda_i=\\Sigma_l\\gamma_{il}=1$\n",
    "\n",
    "Substituting back in the Lagrangian derivative:<br>\n",
    "$\\Rightarrow\\nabla_{\\pi_k}\\sum_l \\gamma_{il}\\left[log(\\pi_l N(x_i|\\mu_l, \\Sigma_l))\\right]+\\lambda(1-\\Sigma_l \\pi_l)=\\nabla_{\\pi_k}\\sum_l \\gamma_{il}\\left[log(\\frac{1}{|2\\pi\\Sigma_l|})-log(\\frac{1}{2})+log(e^{(x_i-\\mu_k)^T\\Sigma^{-1}(x_i-\\mu_k)})\\right]+1-\\Sigma_l \\pi_l$<br>\n",
    "Comparing all samples to 0:<br>\n",
    "$\\Sigma_i(\\frac{\\gamma_{ik}}{\\pi_k}-\\Sigma_l \\pi_l)=0\\Leftrightarrow\\Sigma_i(\\frac{\\gamma_{ik}}{\\pi_k}-1)=0\\Leftrightarrow\\frac{1}{\\pi_k}(\\Sigma_i\\gamma_{ik})-n=0\\Rightarrow\\pi_k=\\frac{\\Sigma_i\\gamma_{ik}}{n}$"
   ]
  },
  {
   "cell_type": "markdown",
   "metadata": {},
   "source": [
    "For conclusion:<br>\n",
    "$$\\mu_k=\\frac{\\Sigma_{i=1}^n\\gamma_{ik}x_i}{\\Sigma_{i=1}^n\\gamma_{ik}}$$<br>\n",
    "$$\\Sigma_k=\\frac{\\Sigma_{i=1}^n\\gamma_{ik}(x_i-\\mu_k)(x_i-\\mu_k)^T}{\\Sigma_{i=1}^n\\gamma_{ik}}$$<br>\n",
    "$$\\pi_k=\\frac{\\Sigma_i\\gamma_{ik}}{n}$$"
   ]
  },
  {
   "cell_type": "markdown",
   "metadata": {},
   "source": [
    "## <img src=\"https://img.icons8.com/dusk/64/000000/prize.png\" style=\"height:50px;display:inline\"> Credits\n",
    "---\n",
    "* Icons from <a href=\"https://icons8.com/\">Icon8.com</a> - https://icons8.com\n",
    "* Datasets from <a href=\"https://www.kaggle.com/\">Kaggle</a> - https://www.kaggle.com/"
   ]
  }
 ],
 "metadata": {
  "kernelspec": {
   "display_name": "Python 3",
   "language": "python",
   "name": "python3"
  },
  "language_info": {
   "codemirror_mode": {
    "name": "ipython",
    "version": 3
   },
   "file_extension": ".py",
   "mimetype": "text/x-python",
   "name": "python",
   "nbconvert_exporter": "python",
   "pygments_lexer": "ipython3",
   "version": "3.8.5"
  }
 },
 "nbformat": 4,
 "nbformat_minor": 2
}
