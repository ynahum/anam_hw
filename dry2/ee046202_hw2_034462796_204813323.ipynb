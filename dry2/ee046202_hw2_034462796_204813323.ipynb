{
 "cells": [
  {
   "cell_type": "markdown",
   "metadata": {},
   "source": [
    "# <img src=\"https://img.icons8.com/dusk/64/000000/artificial-intelligence.png\" style=\"height:50px;display:inline\"> EE 046202 - Technion - Unsupervised Learning & Data Analysis\n",
    "---\n",
    "\n",
    "## Homework 2 - Hypothesis Testing & Dimensionality Reduction\n",
    "---\n",
    "### <a style='color:red'> Due Date: 20.12.2020 </a>\n",
    "\n",
    "\n",
    "### <img src=\"https://img.icons8.com/bubbles/50/000000/checklist.png\" style=\"height:50px;display:inline\"> Agenda\n",
    "---\n",
    "* Questions\n",
    "    * Hypothesis Testing\n",
    "    * Advertisements - To Believe or Not To Believe?\n",
    "    * t-SNE Gradient\n",
    "    * PCA & Friends (Exam-ish Question)\n",
    "* Python Exercise - KPCA Implementation\n",
    "\n",
    "#### Use as many cells as you need\n",
    "#### אפשר גם לכתוב בעברית, אבל עדיף באנגלית\n",
    "\n",
    "* Code Tasks are denoted with: <img src=\"https://img.icons8.com/color/48/000000/code.png\">\n",
    "* Questions (which you need to answer in a Markdown cell) are denoted with: <img src=\"https://img.icons8.com/bubbles/48/000000/ask-question.png\">\n",
    "\n",
    "* $\\large\\LaTeX$ <a href=\"https://kapeli.com/cheat_sheets/LaTeX_Math_Symbols.docset/Contents/Resources/Documents/index\">Cheat-Sheet</a> (to write equations)\n",
    "    * <a href=\"http://tug.ctan.org/info/latex-refsheet/LaTeX_RefSheet.pdf\">Another Cheat-Sheet</a>"
   ]
  },
  {
   "cell_type": "markdown",
   "metadata": {},
   "source": [
    "### <img src=\"https://img.icons8.com/bubbles/50/000000/information.png\" style=\"height:50px;display:inline\"> Students Information\n",
    "---\n",
    "* Fill in\n",
    "\n",
    "|Name     |Campus Email| ID  |\n",
    "|---------|--------------------------------|----------|\n",
    "|Student 1| student_1@campus.technion.ac.il| 123456789|\n",
    "|Student 2| student_2@campus.technion.ac.il| 987654321|\n"
   ]
  },
  {
   "cell_type": "markdown",
   "metadata": {},
   "source": [
    "### <img src=\"https://img.icons8.com/bubbles/50/000000/upload-to-cloud.png\" style=\"height:50px;display:inline\"> Submission Guidelines\n",
    "---\n",
    "* Maximal garde: **100** (even with the bonus, the grade will not be above 100).\n",
    "    * Example: if you got 5 points bonus, but you were right in all sections, your grade will still be 100 (and not 105).\n",
    "    * Example: if you got 5 points bonus, and 6 points were deducted for wrong answers, your grade will be 99.\n",
    "* Submission only in **pairs**. \n",
    "    * Please make sure you have registered your group in Moodle (there is a group creation component on the Moodle where you need to create your group and assign members).\n",
    "* **ANSWERS TO THEORETICAL/MATHEMATICAL QUESTIONS**:\n",
    "    * **Typed - 5 points bonus**: you can type directly in a Markdown cell using Latex (see cheatsheets above), or use Word, Overleaf, LyX...\n",
    "        * This is a really good practice, we encourage you to practice your math typing skills.\n",
    "    * **Handwritten** - if we can't read your handwriting, we will automatically take off the points of the questions. Please write clearly. No bonus for handwritten submissions.\n",
    "* <a style='color:red'> SAVE THE NOTEBOOKS WITH THE OUTPUT, CODE CELLS THAT WERE NOT RUN WILL NOT GET ANY POINTS! </a>\n",
    "* What you have to submit:\n",
    "    * If you have answered the questions in the notebook, you should submit this file only, with the name: `ee046202_hw2_id1_id2.ipynb`.\n",
    "    * If you answered the questionss in a different file you should submit a `.zip` file with the name `ee046202_hw2_id1_id2.zip` with content:\n",
    "        * `ee046202_hw2_id1_id2.ipynb` - the code tasks\n",
    "        * `ee046202_hw2_id1_id2.pdf` - answers to questions.\n",
    "    * No other file-types (`.py`, `.docx`...) will be accepted.\n",
    "* Submission on the course website (Moodle)."
   ]
  },
  {
   "cell_type": "markdown",
   "metadata": {},
   "source": [
    "### <img src=\"https://img.icons8.com/dusk/64/000000/online.png\" style=\"height:50px;display:inline\"> Working Online and Locally\n",
    "---\n",
    "* You can choose your working environment:\n",
    "    1. `Jupyter Notebook`, **locally** with <a href=\"https://www.anaconda.com/distribution/\">Anaconda</a> or **online** on <a href=\"https://colab.research.google.com/\">Google Colab</a>\n",
    "        * Colab also supports running code on GPU, so if you don't have one, Colab is the way to go. To enable GPU on Colab, in the menu: `Runtime`$\\rightarrow$ `Change Runtime Type` $\\rightarrow$`GPU`.\n",
    "    2. Python IDE such as <a href=\"https://www.jetbrains.com/pycharm/\">PyCharm</a> or <a href=\"https://code.visualstudio.com/\">Visual Studio Code</a>.\n",
    "        * Both allow editing and running Jupyter Notebooks.\n",
    "\n",
    "* Please refer to `Setting Up the Working Environment.pdf` on the Moodle or our GitHub (https://github.com/taldatech/ee046202-unsupervised-learning-data-analysis) to help you get everything installed.\n",
    "* If you need any technical assistance, please go to our Piazza forum (`hw2` folder) and describe your problem (preferably with images)."
   ]
  },
  {
   "cell_type": "markdown",
   "metadata": {},
   "source": [
    "### <img src=\"https://img.icons8.com/clouds/96/000000/keyboard.png\" style=\"height:50px;display:inline\"> Keyboard Shortcuts\n",
    "---\n",
    "* Run current cell: **Ctrl + Enter**\n",
    "* Run current cell and move to the next: **Shift + Enter**\n",
    "* Show lines in a code cell: **Esc + L**\n",
    "* View function documentation: **Shift + Tab** inside the parenthesis or `help(name_of_module)`\n",
    "* New cell below: **Esc + B**\n",
    "* Delete cell: **Esc + D, D** (two D's)"
   ]
  },
  {
   "cell_type": "markdown",
   "metadata": {},
   "source": [
    "### <img src=\"https://img.icons8.com/cute-clipart/64/000000/info.png\" style=\"height:50px;display:inline\"> Tip\n",
    "---\n",
    "If you find it more convenient, you can copy the section to a new cell, and answer the question just right below it. For example:\n",
    "\n",
    "#### Question 0\n",
    "---\n",
    "1. What is the best course in the Technion?\n",
    "2. Why does no one pick Bulbasaur as first pokemon?\n",
    "3. Why is there no superhero named Catman?\n",
    "\n",
    "#### Answers - Q0\n",
    "---\n",
    "#### Q0 - Section 1\n",
    "* Q: What is the best course in the Technion?\n",
    "\n",
    "ANAM!\n",
    "\n",
    "#### Q0 - Section 2\n",
    "* Q: Why does no one pick Bulbasaur as first pokemon?\n",
    "\n",
    "It is really a riddle....\n",
    "\n",
    "#### Q0 - Section 3\n",
    "* Q: Why is there no superhero named Catman?\n",
    "\n",
    "I got nothing."
   ]
  },
  {
   "cell_type": "markdown",
   "metadata": {},
   "source": [
    "## <img src=\"https://img.icons8.com/bubbles/48/000000/ask-question.png\" style=\"height:50px;display:inline\"> Question 1 - Hypothesis Testing\n",
    "---\n",
    "1. Prove the following:\n",
    "    * **Theorem**- Suppose that the size $\\alpha$ test is of the form: reject $H_0$ if and only if $T(\\{x_i\\}_{i=1}^n) \\geq c_{\\alpha}$. Then: $$ \\text{p-value} = \\sup_{\\theta \\in \\Theta_0} P_{\\theta}\\left( T(\\{X_i\\}_{i=1}^n) \\geq T(\\{x_i\\}_{i=1}^n) \\right) $$\n",
    "        * $(\\{x_i\\}_{i=1}^n$ is the observed data and $\\{X_i\\}_{i=1}^n$ are RVs.\n",
    "        * As you recall from the lectures, $T(\\cdot)$ is some test statistic (a scalar function of observartions).\n",
    "        * $c_{\\alpha}$ is a threshold constant.\n",
    "        * In simple words, the p-value is the maximum probability under $H_0$ to get a test statistic $T$ greater than the actual one. That is, as this value gets smaller, so does the False-Positive error probability (gets smaller).\n",
    "        \n",
    "2. A 6-sided die (the singular of dice...) is thrown 60 times. Consider the table of observation below and answer the following (**DO NOT USE PYTHON FOR CALCULATIONS**):\n",
    "    * Why is the Pearson's Chi-Squared test best fits to this problem? How many categories are there? How many degrees of freedom does the chi-distribution have in this case?\n",
    "    * Is the die *biased* according to the Pearson's Chi-Squared test and the log-likelihood chi-squared test at the siginificance levels of:\n",
    "        * 99%\n",
    "        * 95%\n",
    "    * What is the p-value for the above test?\n",
    "    * Note: You should use Wilks theorem in your calculation.\n",
    "\n",
    "|                         |1  |2  |3  |4  |5  |6  |\n",
    "|-------------------------|---|---|---|---|---|---|\n",
    "|Number of times landed on...|8  |4  |11 |9  |11 |17 |\n",
    "    \n",
    "3. Now the die is thrown 600 times and the results are in the table below (the sample size is multiplied by 10 but the ration of the results is kept constant). Repeat the experiment. What can you say about the results with respect to the previous question? How the sample size changes the results?\n",
    "\n",
    "|                         |1  |2  |3  |4  |5  |6  |\n",
    "|-------------------------|---|---|---|---|---|---|\n",
    "|Number of times landed on...|80  |40  |110 |90  |110 |170 |\n",
    "\n",
    "<a href=\"https://people.smp.uq.edu.au/YoniNazarathy/stat_models_B_course_spring_07/distributions/chisqtab.pdf\"> Chi-Squared Distribution Table (DOF) </a>"
   ]
  },
  {
   "cell_type": "markdown",
   "metadata": {},
   "source": [
    "## <img src=\"https://img.icons8.com/bubbles/48/000000/ask-question.png\" style=\"height:50px;display:inline\"> Question 2 - Advertisements - To Believe or Not To Believe?\n",
    "---\n",
    "Cold-jet company advertises that more than 75% of the dentists population recommend their tooth-brush, based on a research they conducted. In order to test this assumption, you counducted a test in which 273 out of 390 dentists recommended the tooth-brush.\n",
    "1. Formulate the null-hypothesis $H_0$ and the alternative hypothesis $H_1$.\n",
    "    * It can be assumed that when a company reports on a research results, the results are true (until proven otherwise).\n",
    "2. Build a test based on: $$ \\Lambda = (X_1, ..., X_m) = \\frac{f_{\\theta_1}(x)}{f_{\\theta_0}(x)}> k_{\\alpha}$$ Prove that this is a UMP (Uniformly Most Powerful) test (it is enough to state why, no need for a rigorous proof, use the lecture notes).\n",
    "3. For a test $\\overline{X}_n < C$ find $C$ as a function of the type-1 error probability (use the CLT for approximating $\\overline{X}_n$ distribution).\n",
    "4. Will you reject $H_0$ for a test size of size $\\alpha=0.025$?\n",
    "5. Estimate the type-2 error probability using the CLT for a test of size $\\alpha = 0.025$, when the null-hypothesis is *false* and it is given that actually 74% and 70% of the dentists recommend on Cold-jet's company toothbrush.\n",
    "    * Note: this makes the alternative hypothesis **simple**."
   ]
  },
  {
   "cell_type": "markdown",
   "metadata": {},
   "source": [
    "## <img src=\"https://img.icons8.com/bubbles/48/000000/ask-question.png\" style=\"height:50px;display:inline\"> Question 3 - t-SNE Gradient\n",
    "---\n",
    "Recall the objective of t-SNE algorithm: $$ C=KL(P||Q) =  \\sum_{k,l\\neq k}p_{lk}\\log\\frac{p_{lk}}{q_{lk}} $$\n",
    "Calculate the gradient of the objective function with respect to the low-dimensionality mappings $y_i$, i.e. calculate $\\frac{\\partial C}{\\partial y_i}$.\n",
    "\n",
    "Hint:\n",
    "   * Denote $(1 + ||y_i-y_j||^2)^{-1} = E_{ij}^{-1}$.\n",
    "       * Notice that $E_{ij} = E_{ji}$."
   ]
  },
  {
   "cell_type": "markdown",
   "metadata": {},
   "source": [
    "## <img src=\"https://img.icons8.com/bubbles/48/000000/ask-question.png\" style=\"height:50px;display:inline\"> Question 4 - PCA & Friends (Exam-ish Question)\n",
    "---\n",
    "1. Canonical Correlation Analysis (CCA): Consider two zero-mean random vectors, $x \\in \\mathbb{R}^{D_x}$ and $y \\in \\mathbb{R}^{D_y}$. We would like to find a one-dimensional representation of $x$ and $y$ that **maximizes the correlation** between them. Let these 1D representations be given by $a^Tx$ and $b^Ty$, respectively, $a \\in \\mathbb{R}^{D_x}, b \\in \\mathbb{R}^{D_y}$.\n",
    "    * This problem can be formulated as the optimization problem $$ \\max_{a,b} \\mathbb{E}\\left[(a^Tx)(b^Ty)\\right] \\text{ s.t. } \\mathbb{E}\\left[(a^Tx)\\right]=1, \\mathbb{E}\\left[(b^Ty)\\right]=1 $$ Motivate each term and explain its origin.\n",
    "    * Relate the previous expression to PCA.\n",
    "2. Explain in your own words the difference of the statistical and geometric view point. Specifically,\n",
    "    * Discuss the difference in optimization criteria according to these different view points.\n",
    "    * Explain the redundancy in the MSE solution and explain why it is absent in variance max formulation.\n",
    "3. Show that the conventional linear PCA algorithm is recovered as a special case of Kernal PCA. That is, if we choose the linear kernel function given by $k(x,y) = x^Ty$ we get the PCA algorithm."
   ]
  },
  {
   "cell_type": "markdown",
   "metadata": {},
   "source": [
    "## <img src=\"https://img.icons8.com/color/48/000000/code.png\" style=\"height:50px;display:inline\"> Question 5 - Python - KPCA Implementation\n",
    "---\n",
    "1. Implement the KPCA algorithm (do not use scikit-learn's implementation).\n",
    "    * The KPCA function should have the form `KPCA(X, d, kernel)` where:\n",
    "        * $X \\in \\mathbb{R}^{D \\times N}$ - the data matrix with $N$ data samples and $D$ features.\n",
    "        * $d$ is the final dimension of each data point.\n",
    "        * `kernel` is a **function** which receives $x,y$ and returns $k(x,y)$ for these points.\n",
    "            * When applying the KPCA, you can use Python's `lambda` function to write a one-line function.\n",
    "            * If you don't want to use `lambda`, you can use the regular functions with `def func(): ...`, but you will need to change the signature of KPCA to `KPCA(X, d, kernel, *args)`, where `args` is a list of parameters that will be fed into `kernel`.\n",
    "                * For example, for the Gaussian kernel, you will define a function in the form `GaussianKernel(x,y, sigma)`, and then you will call KPCA like that: `KPCA(X,d, GaussianKernel, sigma): ... k = GaussianKernel(x_1, x_2, sigma) ... `\n",
    "            * Read more: <a href=\"http://book.pythontips.com/en/latest/args_and_kwargs.html\">*args</a>, <a href=\"https://www.w3schools.com/python/python_lambda.asp\"> Lambda functions </a>\n",
    "        * For the eigenvectors and eigenvalues, use `np.linalg.eigh`.\n",
    "        * How to make sure your implementation is correct? You can compare with scikit-learn's KPCA (see Tutorial 5).\n",
    "\n",
    "2. Create a dataset of 1000 points using scikit-learn's `sklearn.datasets.make_s_curve` (use the default parameters). Apply PCA (use the one from the tutorial or scikit-learn's) and your KPCA. Use the Gaussian Kernel and a second (nonlinear) kernel of your choice. Explain how you picked $\\sigma$ for the Gaussian Kernel. Plot the original dataset (in **3D**), and its representations in 2D you obtained (4 plots in total: Original, PCA, KPCA (Gaussian), KPCA (Other) )."
   ]
  },
  {
   "cell_type": "code",
   "execution_count": 1,
   "metadata": {},
   "outputs": [],
   "source": [
    "# imports\n",
    "# you can add more if you need\n",
    "import numpy as np\n",
    "import matplotlib.pyplot as plt\n",
    "from mpl_toolkits.mplot3d import Axes3D\n",
    "from sklearn.datasets import make_s_curve\n",
    "from sklearn.decomposition import PCA"
   ]
  },
  {
   "cell_type": "markdown",
   "metadata": {},
   "source": [
    "## <img src=\"https://img.icons8.com/dusk/64/000000/prize.png\" style=\"height:50px;display:inline\"> Credits\n",
    "---\n",
    "* Icons from <a href=\"https://icons8.com/\">Icon8.com</a> - https://icons8.com\n",
    "* Datasets from <a href=\"https://www.kaggle.com/\">Kaggle</a> - https://www.kaggle.com/"
   ]
  }
 ],
 "metadata": {
  "kernelspec": {
   "display_name": "Python 3",
   "language": "python",
   "name": "python3"
  },
  "language_info": {
   "codemirror_mode": {
    "name": "ipython",
    "version": 3
   },
   "file_extension": ".py",
   "mimetype": "text/x-python",
   "name": "python",
   "nbconvert_exporter": "python",
   "pygments_lexer": "ipython3",
   "version": "3.6.9"
  }
 },
 "nbformat": 4,
 "nbformat_minor": 2
}
